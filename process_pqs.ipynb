{
 "cells": [
  {
   "cell_type": "code",
   "execution_count": 3,
   "metadata": {},
   "outputs": [],
   "source": [
    "import pickle"
   ]
  },
  {
   "cell_type": "code",
   "execution_count": 4,
   "metadata": {},
   "outputs": [],
   "source": [
    "pw = pickle.load(open('/data_ecstorage/MINDER/data/pseudo_queries/pid2query_Wikipedia.pkl', 'rb'))"
   ]
  },
  {
   "cell_type": "code",
   "execution_count": 5,
   "metadata": {},
   "outputs": [],
   "source": [
    "pm = pickle.load(open('/data_ecstorage/MINDER/data/pseudo_queries/pid2query_msmarco.pkl', 'rb'))"
   ]
  },
  {
   "cell_type": "code",
   "execution_count": 9,
   "metadata": {},
   "outputs": [
    {
     "name": "stderr",
     "output_type": "stream",
     "text": [
      "  0%|          | 100/21015325 [00:00<09:41, 36142.21it/s]\n"
     ]
    }
   ],
   "source": [
    "from tqdm import tqdm\n",
    "output_file = 'train_pq_identifiers.tsv'\n",
    "cnt = 0\n",
    "unique_pqs = set()\n",
    "with open(output_file, 'w') as f:\n",
    "    for pqs in tqdm(pw.values()):\n",
    "        pqs = list(set(pqs))\n",
    "        unique_pqs.update(pqs)\n",
    "        join_pqs = '|__|'.join(pqs)\n",
    "        for i in range(len(pqs)):\n",
    "            f.write(f'{pqs[i]}\\t{join_pqs}\\n')\n",
    "        cnt += 1\n",
    "        if cnt > 100:\n",
    "            break"
   ]
  },
  {
   "cell_type": "code",
   "execution_count": 6,
   "metadata": {},
   "outputs": [
    {
     "data": {
      "text/plain": [
       "('2581755',\n",
       " ['which pope has the middle name gregory',\n",
       "  'how many popes have the name gregory',\n",
       "  'where does the last name gregory come from',\n",
       "  'how many popes have given the name gregory',\n",
       "  'how many popes have used the name gregory',\n",
       "  'how many popes use the name gregory',\n",
       "  'how many popes use the name gregory the great',\n",
       "  'which pope has the name gregory the great',\n",
       "  'what is the meaning of gregory in the name of greg'])"
      ]
     },
     "execution_count": 6,
     "metadata": {},
     "output_type": "execute_result"
    }
   ],
   "source": [
    "next(iter(pw.items()))"
   ]
  },
  {
   "cell_type": "code",
   "execution_count": 7,
   "metadata": {},
   "outputs": [
    {
     "data": {
      "text/plain": [
       "('0',\n",
       " ['what was important to the success of the manhattan project',\n",
       "  'why was the manhattan project important?',\n",
       "  'what was important about the manhattan project',\n",
       "  'why was the success of the manhattan project so important?',\n",
       "  'who was the manhattan project a scientific project for',\n",
       "  'what was the manhattan project important for',\n",
       "  'why was the manhattan project a success',\n",
       "  'how was the success of the manhattan project',\n",
       "  'why was the manhattan project important to the success of the project?',\n",
       "  'what is the importance of communication amongst scientific minds',\n",
       "  'what was the importance of scientific communication for the success of the manhattan project',\n",
       "  'what was the purpose of the manhattan project',\n",
       "  'why was the manhattan project significant?',\n",
       "  'why was the manhattan project important',\n",
       "  'why did scientists believe in atomic power',\n",
       "  'why did scientists and engineers have to communicate?',\n",
       "  'why was the manhattan project a success',\n",
       "  'what was the purpose of the manhattan project',\n",
       "  'why did scientists and engineers want to be involved in the manhattan project',\n",
       "  'why are the scientists so valuable',\n",
       "  'which of the following was an important outcome of the manhattan project?',\n",
       "  'why was the manhattan project successful',\n",
       "  'why was the manhattan project an important scientific achievement',\n",
       "  'what was the success of manhattan',\n",
       "  'what was the result of the manhattan project',\n",
       "  'why was communications important to the success of the manhattan project?',\n",
       "  'why the manhattan project was important',\n",
       "  'why is it important to know who is the manhattan project',\n",
       "  'what was the most important accomplishment to the success of the manhattan project?',\n",
       "  'why was the manhattan project an important achievement?',\n",
       "  'why was the manhattan project important to the success of the atomic bomb',\n",
       "  'how did the manhattan project impact scientists?',\n",
       "  'what were the effects of the manhattan project',\n",
       "  'what were the results of the manhattan project and how did they affect the public',\n",
       "  'what was the manhattan project',\n",
       "  'why did scientists contribute to the success of the manhattan project',\n",
       "  'why was communication important in the manhattan project',\n",
       "  'what was the effect of the manhattan project on the world',\n",
       "  'what was the importance of communication in the success of the manhattan project?',\n",
       "  'why was communications important to the success of the manhattan project?'])"
      ]
     },
     "execution_count": 7,
     "metadata": {},
     "output_type": "execute_result"
    }
   ],
   "source": [
    "next(iter(pm.items()))"
   ]
  }
 ],
 "metadata": {
  "kernelspec": {
   "display_name": "clover",
   "language": "python",
   "name": "python3"
  },
  "language_info": {
   "codemirror_mode": {
    "name": "ipython",
    "version": 3
   },
   "file_extension": ".py",
   "mimetype": "text/x-python",
   "name": "python",
   "nbconvert_exporter": "python",
   "pygments_lexer": "ipython3",
   "version": "3.8.20"
  }
 },
 "nbformat": 4,
 "nbformat_minor": 2
}
